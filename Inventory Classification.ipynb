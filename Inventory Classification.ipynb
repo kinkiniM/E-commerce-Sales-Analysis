{
 "cells": [
  {
   "cell_type": "markdown",
   "id": "c2d8771c-c6a0-4b71-93d1-00e07ee0996f",
   "metadata": {},
   "source": [
    "# Importing all the Libraries required for the prediction"
   ]
  },
  {
   "cell_type": "code",
   "execution_count": 191,
   "id": "aa4f31d4-7651-47b2-b762-e4b85ad714c7",
   "metadata": {},
   "outputs": [],
   "source": [
    "import pandas as pd \n",
    "import seaborn as sns\n",
    "import numpy as np \n",
    "import matplotlib.pyplot as plt"
   ]
  },
  {
   "cell_type": "code",
   "execution_count": 192,
   "id": "37c595b1-acc3-4ee7-b2a6-edc696521193",
   "metadata": {},
   "outputs": [],
   "source": [
    "import warnings\n",
    "warnings.simplefilter(\"ignore\", category=UserWarning)"
   ]
  },
  {
   "cell_type": "code",
   "execution_count": 193,
   "id": "74164bca-86bc-46ad-8095-1ad643038b38",
   "metadata": {},
   "outputs": [],
   "source": [
    "df = pd.read_csv('SAADAA_assessment_data - Sheet1.csv')"
   ]
  },
  {
   "cell_type": "code",
   "execution_count": 194,
   "id": "fa2a54d7-4839-4749-bb7f-360531d649bb",
   "metadata": {},
   "outputs": [
    {
     "data": {
      "text/html": [
       "<div>\n",
       "<style scoped>\n",
       "    .dataframe tbody tr th:only-of-type {\n",
       "        vertical-align: middle;\n",
       "    }\n",
       "\n",
       "    .dataframe tbody tr th {\n",
       "        vertical-align: top;\n",
       "    }\n",
       "\n",
       "    .dataframe thead th {\n",
       "        text-align: right;\n",
       "    }\n",
       "</style>\n",
       "<table border=\"1\" class=\"dataframe\">\n",
       "  <thead>\n",
       "    <tr style=\"text-align: right;\">\n",
       "      <th></th>\n",
       "      <th>customer_id</th>\n",
       "      <th>customer_tenure</th>\n",
       "      <th>customer_location</th>\n",
       "      <th>customer_type</th>\n",
       "      <th>order_id</th>\n",
       "      <th>order_date</th>\n",
       "      <th>order_value</th>\n",
       "      <th>payment_method</th>\n",
       "      <th>order_frequency</th>\n",
       "      <th>discount_applied</th>\n",
       "      <th>return_status</th>\n",
       "      <th>product_category</th>\n",
       "      <th>product_sku</th>\n",
       "      <th>size</th>\n",
       "      <th>inventory_status</th>\n",
       "      <th>source</th>\n",
       "      <th>engagement_score</th>\n",
       "    </tr>\n",
       "  </thead>\n",
       "  <tbody>\n",
       "    <tr>\n",
       "      <th>0</th>\n",
       "      <td>CUST00001</td>\n",
       "      <td>39</td>\n",
       "      <td>Delhi</td>\n",
       "      <td>Returning</td>\n",
       "      <td>ORD000001</td>\n",
       "      <td>08/12/2023</td>\n",
       "      <td>4015.21</td>\n",
       "      <td>Net Banking</td>\n",
       "      <td>9</td>\n",
       "      <td>5</td>\n",
       "      <td>No</td>\n",
       "      <td>Jackets</td>\n",
       "      <td>SKU0001</td>\n",
       "      <td>XXL</td>\n",
       "      <td>In Stock</td>\n",
       "      <td>Word of Mouth</td>\n",
       "      <td>36</td>\n",
       "    </tr>\n",
       "    <tr>\n",
       "      <th>1</th>\n",
       "      <td>CUST00002</td>\n",
       "      <td>52</td>\n",
       "      <td>Hyderabad</td>\n",
       "      <td>Returning</td>\n",
       "      <td>ORD000002</td>\n",
       "      <td>06/09/2023</td>\n",
       "      <td>2205.61</td>\n",
       "      <td>Credit Card</td>\n",
       "      <td>3</td>\n",
       "      <td>15</td>\n",
       "      <td>No</td>\n",
       "      <td>T-Shirts</td>\n",
       "      <td>SKU0002</td>\n",
       "      <td>S</td>\n",
       "      <td>Out of Stock</td>\n",
       "      <td>Google Ads</td>\n",
       "      <td>37</td>\n",
       "    </tr>\n",
       "    <tr>\n",
       "      <th>2</th>\n",
       "      <td>CUST00003</td>\n",
       "      <td>29</td>\n",
       "      <td>Pune</td>\n",
       "      <td>Returning</td>\n",
       "      <td>ORD000003</td>\n",
       "      <td>01/05/2023</td>\n",
       "      <td>858.84</td>\n",
       "      <td>Net Banking</td>\n",
       "      <td>8</td>\n",
       "      <td>30</td>\n",
       "      <td>No</td>\n",
       "      <td>T-Shirts</td>\n",
       "      <td>SKU0003</td>\n",
       "      <td>L</td>\n",
       "      <td>In Stock</td>\n",
       "      <td>Email Marketing</td>\n",
       "      <td>95</td>\n",
       "    </tr>\n",
       "    <tr>\n",
       "      <th>3</th>\n",
       "      <td>CUST00004</td>\n",
       "      <td>15</td>\n",
       "      <td>Jaipur</td>\n",
       "      <td>Returning</td>\n",
       "      <td>ORD000004</td>\n",
       "      <td>02/03/2023</td>\n",
       "      <td>500.00</td>\n",
       "      <td>UPI</td>\n",
       "      <td>1</td>\n",
       "      <td>0</td>\n",
       "      <td>No</td>\n",
       "      <td>T-Shirts</td>\n",
       "      <td>SKU0004</td>\n",
       "      <td>XXL</td>\n",
       "      <td>In Stock</td>\n",
       "      <td>Word of Mouth</td>\n",
       "      <td>10</td>\n",
       "    </tr>\n",
       "    <tr>\n",
       "      <th>4</th>\n",
       "      <td>CUST00005</td>\n",
       "      <td>43</td>\n",
       "      <td>Pune</td>\n",
       "      <td>Returning</td>\n",
       "      <td>ORD000005</td>\n",
       "      <td>11/04/2023</td>\n",
       "      <td>1843.50</td>\n",
       "      <td>Wallet</td>\n",
       "      <td>9</td>\n",
       "      <td>40</td>\n",
       "      <td>Yes</td>\n",
       "      <td>Sweatshirts</td>\n",
       "      <td>SKU0005</td>\n",
       "      <td>L</td>\n",
       "      <td>In Stock</td>\n",
       "      <td>Word of Mouth</td>\n",
       "      <td>0</td>\n",
       "    </tr>\n",
       "  </tbody>\n",
       "</table>\n",
       "</div>"
      ],
      "text/plain": [
       "  customer_id  customer_tenure customer_location customer_type   order_id  \\\n",
       "0   CUST00001               39             Delhi     Returning  ORD000001   \n",
       "1   CUST00002               52         Hyderabad     Returning  ORD000002   \n",
       "2   CUST00003               29              Pune     Returning  ORD000003   \n",
       "3   CUST00004               15            Jaipur     Returning  ORD000004   \n",
       "4   CUST00005               43              Pune     Returning  ORD000005   \n",
       "\n",
       "   order_date  order_value payment_method  order_frequency  discount_applied  \\\n",
       "0  08/12/2023      4015.21    Net Banking                9                 5   \n",
       "1  06/09/2023      2205.61    Credit Card                3                15   \n",
       "2  01/05/2023       858.84    Net Banking                8                30   \n",
       "3  02/03/2023       500.00            UPI                1                 0   \n",
       "4  11/04/2023      1843.50         Wallet                9                40   \n",
       "\n",
       "  return_status product_category product_sku size inventory_status  \\\n",
       "0            No          Jackets     SKU0001  XXL         In Stock   \n",
       "1            No         T-Shirts     SKU0002    S     Out of Stock   \n",
       "2            No         T-Shirts     SKU0003    L         In Stock   \n",
       "3            No         T-Shirts     SKU0004  XXL         In Stock   \n",
       "4           Yes      Sweatshirts     SKU0005    L         In Stock   \n",
       "\n",
       "            source  engagement_score  \n",
       "0    Word of Mouth                36  \n",
       "1       Google Ads                37  \n",
       "2  Email Marketing                95  \n",
       "3    Word of Mouth                10  \n",
       "4    Word of Mouth                 0  "
      ]
     },
     "execution_count": 194,
     "metadata": {},
     "output_type": "execute_result"
    }
   ],
   "source": [
    "df.head()"
   ]
  },
  {
   "cell_type": "code",
   "execution_count": 195,
   "id": "350b1e6a-5085-4a98-a48c-b53e03453366",
   "metadata": {},
   "outputs": [
    {
     "name": "stdout",
     "output_type": "stream",
     "text": [
      "<class 'pandas.core.frame.DataFrame'>\n",
      "RangeIndex: 1000 entries, 0 to 999\n",
      "Data columns (total 17 columns):\n",
      " #   Column             Non-Null Count  Dtype  \n",
      "---  ------             --------------  -----  \n",
      " 0   customer_id        1000 non-null   object \n",
      " 1   customer_tenure    1000 non-null   int64  \n",
      " 2   customer_location  1000 non-null   object \n",
      " 3   customer_type      1000 non-null   object \n",
      " 4   order_id           1000 non-null   object \n",
      " 5   order_date         1000 non-null   object \n",
      " 6   order_value        1000 non-null   float64\n",
      " 7   payment_method     1000 non-null   object \n",
      " 8   order_frequency    1000 non-null   int64  \n",
      " 9   discount_applied   1000 non-null   int64  \n",
      " 10  return_status      1000 non-null   object \n",
      " 11  product_category   1000 non-null   object \n",
      " 12  product_sku        1000 non-null   object \n",
      " 13  size               1000 non-null   object \n",
      " 14  inventory_status   1000 non-null   object \n",
      " 15  source             1000 non-null   object \n",
      " 16  engagement_score   1000 non-null   int64  \n",
      "dtypes: float64(1), int64(4), object(12)\n",
      "memory usage: 132.9+ KB\n"
     ]
    }
   ],
   "source": [
    "df.info()"
   ]
  },
  {
   "cell_type": "markdown",
   "id": "dfc80434-8396-45f0-9f05-a220f5058e98",
   "metadata": {},
   "source": [
    "# Dropping of the columns which are not required for our analysis"
   ]
  },
  {
   "cell_type": "code",
   "execution_count": 196,
   "id": "d0453184-04ea-4629-8090-79644e2d3c64",
   "metadata": {},
   "outputs": [],
   "source": [
    "df.drop('customer_id',axis=1,inplace=True)"
   ]
  },
  {
   "cell_type": "code",
   "execution_count": 197,
   "id": "e2836849-b20d-430c-afae-0be9f6de5009",
   "metadata": {},
   "outputs": [],
   "source": [
    "df.drop('customer_location',axis=1,inplace=True)"
   ]
  },
  {
   "cell_type": "code",
   "execution_count": 198,
   "id": "e02f004c-ed48-42c6-918b-729f6121f914",
   "metadata": {},
   "outputs": [],
   "source": [
    "df.drop('customer_type',axis=1,inplace=True)"
   ]
  },
  {
   "cell_type": "code",
   "execution_count": 199,
   "id": "205bdb28-e7cb-4814-aa36-ccffd6a45fbb",
   "metadata": {},
   "outputs": [
    {
     "name": "stdout",
     "output_type": "stream",
     "text": [
      "<class 'pandas.core.frame.DataFrame'>\n",
      "RangeIndex: 1000 entries, 0 to 999\n",
      "Data columns (total 14 columns):\n",
      " #   Column            Non-Null Count  Dtype  \n",
      "---  ------            --------------  -----  \n",
      " 0   customer_tenure   1000 non-null   int64  \n",
      " 1   order_id          1000 non-null   object \n",
      " 2   order_date        1000 non-null   object \n",
      " 3   order_value       1000 non-null   float64\n",
      " 4   payment_method    1000 non-null   object \n",
      " 5   order_frequency   1000 non-null   int64  \n",
      " 6   discount_applied  1000 non-null   int64  \n",
      " 7   return_status     1000 non-null   object \n",
      " 8   product_category  1000 non-null   object \n",
      " 9   product_sku       1000 non-null   object \n",
      " 10  size              1000 non-null   object \n",
      " 11  inventory_status  1000 non-null   object \n",
      " 12  source            1000 non-null   object \n",
      " 13  engagement_score  1000 non-null   int64  \n",
      "dtypes: float64(1), int64(4), object(9)\n",
      "memory usage: 109.5+ KB\n"
     ]
    }
   ],
   "source": [
    "df.info()"
   ]
  },
  {
   "cell_type": "markdown",
   "id": "14b10868-d73e-43e5-a5b1-0c018d81eff7",
   "metadata": {},
   "source": [
    "# Student's T-test to identify relationship between inventory and other columns"
   ]
  },
  {
   "cell_type": "code",
   "execution_count": 200,
   "id": "2298c230-1ca3-4b1d-a3f8-91e59304e961",
   "metadata": {},
   "outputs": [
    {
     "name": "stdout",
     "output_type": "stream",
     "text": [
      "T-Statistic: 1.2605302596044783\n",
      "P-value: 0.2098665554887264\n"
     ]
    }
   ],
   "source": [
    "from scipy.stats import ttest_ind\n",
    "in_stock_values = df[df['inventory_status'] == 'In Stock']['order_value']\n",
    "out_of_stock_values = df[df['inventory_status'] == 'Out of Stock']['order_value']\n",
    "\n",
    "# Perform t-test\n",
    "t_stat, p_value = ttest_ind(in_stock_values, out_of_stock_values, equal_var=False)  # Use equal_var=False if variance is different\n",
    "\n",
    "print(\"T-Statistic:\", t_stat)\n",
    "print(\"P-value:\", p_value)"
   ]
  },
  {
   "cell_type": "markdown",
   "id": "4ef66338-5d95-4275-90b0-7b8a119a7fa6",
   "metadata": {},
   "source": [
    "The P-value is yeilding a result which is above 0.05 (in our case 0.209) Hence the column order_value is not impacting the inventory status"
   ]
  },
  {
   "cell_type": "code",
   "execution_count": 201,
   "id": "f4ce51f6-065d-4895-8a46-fc7eb1b14601",
   "metadata": {},
   "outputs": [
    {
     "name": "stdout",
     "output_type": "stream",
     "text": [
      "T-Statistic: -1.3848548467664947\n",
      "P-value: 0.16863163425670752\n"
     ]
    }
   ],
   "source": [
    "from scipy.stats import ttest_ind\n",
    "in_stock_values1 = df[df['inventory_status'] == 'In Stock']['order_frequency']\n",
    "out_of_stock_values1 = df[df['inventory_status'] == 'Out of Stock']['order_frequency']\n",
    "\n",
    "# Perform t-test\n",
    "t_stat, p_value = ttest_ind(in_stock_values1, out_of_stock_values1, equal_var=False)  \n",
    "\n",
    "print(\"T-Statistic:\", t_stat)\n",
    "print(\"P-value:\", p_value)"
   ]
  },
  {
   "cell_type": "markdown",
   "id": "0f391c85-d872-419c-88cf-34882545cbdd",
   "metadata": {},
   "source": [
    "The P-value is yeilding a result which is above 0.05 (in our case 0.169) Hence the column order_frequecny is not impacting the inventory status"
   ]
  },
  {
   "cell_type": "code",
   "execution_count": 202,
   "id": "41d32a8f-da17-4722-bd50-027feacfb549",
   "metadata": {},
   "outputs": [
    {
     "name": "stdout",
     "output_type": "stream",
     "text": [
      "inventory_status\n",
      "In Stock        0.899\n",
      "Out of Stock    0.101\n",
      "Name: proportion, dtype: float64\n"
     ]
    }
   ],
   "source": [
    "print(df['inventory_status'].value_counts(normalize=True))"
   ]
  },
  {
   "cell_type": "code",
   "execution_count": 203,
   "id": "62a04167-9e29-4442-a993-004cca8202e8",
   "metadata": {},
   "outputs": [
    {
     "data": {
      "image/png": "[encoded data removed]",
      "text/plain": [
       "<Figure size 640x480 with 1 Axes>"
      ]
     },
     "metadata": {},
     "output_type": "display_data"
    }
   ],
   "source": [
    "sns.histplot(df['order_value'], bins=30, kde=True)\n",
    "plt.title(\"Distribution of Order Value\")\n",
    "plt.show()"
   ]
  },
  {
   "cell_type": "code",
   "execution_count": 204,
   "id": "c40a8cbf-1215-4585-8fc8-f9305bb6efa3",
   "metadata": {},
   "outputs": [
    {
     "name": "stdout",
     "output_type": "stream",
     "text": [
      "float64\n",
      "0\n"
     ]
    }
   ],
   "source": [
    "print(df['order_value'].dtype)  # Should be float or int\n",
    "print(df['order_value'].isnull().sum()) "
   ]
  },
  {
   "cell_type": "markdown",
   "id": "73071272-000a-4f20-91d6-bad7e1f794ab",
   "metadata": {},
   "source": [
    "# Since the data distribution for order_value is right skewed we use the Mann Whitney test to identify the correlation"
   ]
  },
  {
   "cell_type": "code",
   "execution_count": 205,
   "id": "5e265445-db7e-4679-a49e-a0dce3944151",
   "metadata": {},
   "outputs": [
    {
     "name": "stdout",
     "output_type": "stream",
     "text": [
      "Mann-Whitney U Test P-Value: 0.22398115417653897\n"
     ]
    }
   ],
   "source": [
    "from scipy.stats import mannwhitneyu\n",
    "\n",
    "yes_values = df[df['inventory_status'] == 'In Stock']['order_value']\n",
    "no_values = df[df['inventory_status'] == 'Out of Stock']['order_value']\n",
    "\n",
    "u_stat, p_value = mannwhitneyu(yes_values, no_values, alternative='two-sided')\n",
    "print(\"Mann-Whitney U Test P-Value:\", p_value)\n"
   ]
  },
  {
   "cell_type": "markdown",
   "id": "364e2e8e-d12e-4526-ac13-581766e361c5",
   "metadata": {},
   "source": [
    "## There are no correlation between the two. "
   ]
  },
  {
   "cell_type": "code",
   "execution_count": 206,
   "id": "5bef27df-0b8d-4f47-a990-85061ecae4ef",
   "metadata": {},
   "outputs": [
    {
     "data": {
      "image/png": "[encoded data removed]",
      "text/plain": [
       "<Figure size 640x480 with 1 Axes>"
      ]
     },
     "metadata": {},
     "output_type": "display_data"
    }
   ],
   "source": [
    "sns.histplot(df['order_frequency'], bins=30, kde=True)\n",
    "plt.title(\"Distribution of Order Value\")\n",
    "plt.show()"
   ]
  },
  {
   "cell_type": "code",
   "execution_count": 207,
   "id": "102ffc91-01eb-4122-9c64-2e299734136a",
   "metadata": {},
   "outputs": [
    {
     "name": "stdout",
     "output_type": "stream",
     "text": [
      "Mann-Whitney U Test P-Value: 0.14853212488134288\n"
     ]
    }
   ],
   "source": [
    "from scipy.stats import mannwhitneyu\n",
    "\n",
    "yes_values1 = df[df['inventory_status'] == 'In Stock']['order_frequency']\n",
    "no_values1 = df[df['inventory_status'] == 'Out of Stock']['order_frequency']\n",
    "\n",
    "u_stat, p_value = mannwhitneyu(yes_values1, no_values1, alternative='two-sided')\n",
    "print(\"Mann-Whitney U Test P-Value:\", p_value)"
   ]
  },
  {
   "cell_type": "code",
   "execution_count": 208,
   "id": "4c59da71-500d-47ef-a22b-fb2c12104e2b",
   "metadata": {},
   "outputs": [
    {
     "data": {
      "text/plain": [
       "order_frequency\n",
       "6    127\n",
       "8    120\n",
       "7    116\n",
       "3    112\n",
       "1    112\n",
       "4    111\n",
       "5    103\n",
       "2    100\n",
       "9     99\n",
       "Name: count, dtype: int64"
      ]
     },
     "execution_count": 208,
     "metadata": {},
     "output_type": "execute_result"
    }
   ],
   "source": [
    "df.order_frequency.value_counts()"
   ]
  },
  {
   "cell_type": "markdown",
   "id": "22c46049-4fd5-49f5-9807-ddcd3e0a2363",
   "metadata": {},
   "source": [
    "order_frequncy has no correlationship with inventory status"
   ]
  },
  {
   "cell_type": "code",
   "execution_count": 209,
   "id": "c61bd809-b1fd-4831-b7cc-c2484c295edb",
   "metadata": {},
   "outputs": [
    {
     "name": "stdout",
     "output_type": "stream",
     "text": [
      "Mann-Whitney U Test P-Value: 0.7380354265026704\n"
     ]
    }
   ],
   "source": [
    "from scipy.stats import mannwhitneyu\n",
    "\n",
    "yes_values2 = df[df['inventory_status'] == 'In Stock']['discount_applied']\n",
    "no_values2 = df[df['inventory_status'] == 'Out of Stock']['discount_applied']\n",
    "\n",
    "u_stat, p_value = mannwhitneyu(yes_values2, no_values2, alternative='two-sided')\n",
    "print(\"Mann-Whitney U Test P-Value:\", p_value)\n"
   ]
  },
  {
   "cell_type": "markdown",
   "id": "7adae105-1d3f-48ba-b999-00db5d79bb07",
   "metadata": {},
   "source": [
    "No correlation "
   ]
  },
  {
   "cell_type": "code",
   "execution_count": 210,
   "id": "10369f71-17bd-43bc-8ff4-ae3ab16e0990",
   "metadata": {},
   "outputs": [],
   "source": [
    "df.drop('order_id',axis=1,inplace=True)"
   ]
  },
  {
   "cell_type": "code",
   "execution_count": 211,
   "id": "d4e6fad9-13d9-4140-8455-a1f465bc150e",
   "metadata": {},
   "outputs": [],
   "source": [
    "df.drop('order_date',axis=1,inplace=True)"
   ]
  },
  {
   "cell_type": "code",
   "execution_count": 212,
   "id": "3ac587ca-836d-454c-8dfa-36849d141716",
   "metadata": {},
   "outputs": [],
   "source": [
    "colm_to_drop = {'payment_method', 'return_status', 'source'}\n",
    "df.drop(columns=colm_to_drop,axis=1,inplace=True)"
   ]
  },
  {
   "cell_type": "code",
   "execution_count": 213,
   "id": "1c60ad8a-919a-47fe-9c8a-7d88b908ced8",
   "metadata": {},
   "outputs": [
    {
     "name": "stdout",
     "output_type": "stream",
     "text": [
      "<class 'pandas.core.frame.DataFrame'>\n",
      "RangeIndex: 1000 entries, 0 to 999\n",
      "Data columns (total 9 columns):\n",
      " #   Column            Non-Null Count  Dtype  \n",
      "---  ------            --------------  -----  \n",
      " 0   customer_tenure   1000 non-null   int64  \n",
      " 1   order_value       1000 non-null   float64\n",
      " 2   order_frequency   1000 non-null   int64  \n",
      " 3   discount_applied  1000 non-null   int64  \n",
      " 4   product_category  1000 non-null   object \n",
      " 5   product_sku       1000 non-null   object \n",
      " 6   size              1000 non-null   object \n",
      " 7   inventory_status  1000 non-null   object \n",
      " 8   engagement_score  1000 non-null   int64  \n",
      "dtypes: float64(1), int64(4), object(4)\n",
      "memory usage: 70.4+ KB\n"
     ]
    }
   ],
   "source": [
    "df.info()"
   ]
  },
  {
   "cell_type": "markdown",
   "id": "3350b236-9720-49f0-8554-4636a3d1bec2",
   "metadata": {},
   "source": [
    "# Reordering the columns for our predictive Model "
   ]
  },
  {
   "cell_type": "code",
   "execution_count": 214,
   "id": "e5c3ebff-dd10-4492-b855-030b0fc56706",
   "metadata": {},
   "outputs": [],
   "source": [
    "order = ['customer_tenure', 'order_value', 'order_frequency','discount_applied','product_category', \n",
    "         'product_sku', 'size', 'engagement_score', 'inventory_status']\n",
    "df = df[order]"
   ]
  },
  {
   "cell_type": "code",
   "execution_count": 215,
   "id": "a0b28415-f053-4e7c-89bf-f65d3d3aca9a",
   "metadata": {},
   "outputs": [],
   "source": [
    "df.drop('customer_tenure', axis=1, inplace=True)"
   ]
  },
  {
   "cell_type": "code",
   "execution_count": 216,
   "id": "02a814bf-2ed3-49a4-a920-44cb28ba3fae",
   "metadata": {},
   "outputs": [
    {
     "name": "stdout",
     "output_type": "stream",
     "text": [
      "<class 'pandas.core.frame.DataFrame'>\n",
      "RangeIndex: 1000 entries, 0 to 999\n",
      "Data columns (total 8 columns):\n",
      " #   Column            Non-Null Count  Dtype  \n",
      "---  ------            --------------  -----  \n",
      " 0   order_value       1000 non-null   float64\n",
      " 1   order_frequency   1000 non-null   int64  \n",
      " 2   discount_applied  1000 non-null   int64  \n",
      " 3   product_category  1000 non-null   object \n",
      " 4   product_sku       1000 non-null   object \n",
      " 5   size              1000 non-null   object \n",
      " 6   engagement_score  1000 non-null   int64  \n",
      " 7   inventory_status  1000 non-null   object \n",
      "dtypes: float64(1), int64(3), object(4)\n",
      "memory usage: 62.6+ KB\n"
     ]
    }
   ],
   "source": [
    "df.info()"
   ]
  },
  {
   "cell_type": "code",
   "execution_count": 217,
   "id": "c26b0df2-2b92-4893-baa3-e7efadde50e5",
   "metadata": {},
   "outputs": [
    {
     "data": {
      "text/plain": [
       "<Axes: xlabel='inventory_status'>"
      ]
     },
     "execution_count": 217,
     "metadata": {},
     "output_type": "execute_result"
    },
    {
     "data": {
      "image/png": "[encoded data removed]",
      "text/plain": [
       "<Figure size 640x480 with 1 Axes>"
      ]
     },
     "metadata": {},
     "output_type": "display_data"
    }
   ],
   "source": [
    "df.inventory_status.value_counts().plot(kind='bar')"
   ]
  },
  {
   "cell_type": "code",
   "execution_count": 218,
   "id": "b01b2ee6-c7d2-4f54-8815-0631413ce5fa",
   "metadata": {},
   "outputs": [
    {
     "data": {
      "text/plain": [
       "<Axes: >"
      ]
     },
     "execution_count": 218,
     "metadata": {},
     "output_type": "execute_result"
    },
    {
     "data": {
      "image/png": "[encoded data removed]",
      "text/plain": [
       "<Figure size 640x480 with 1 Axes>"
      ]
     },
     "metadata": {},
     "output_type": "display_data"
    }
   ],
   "source": [
    "sns.boxplot(df)"
   ]
  },
  {
   "cell_type": "code",
   "execution_count": 219,
   "id": "a7dc9936-563d-4862-a81b-5aeaf0080665",
   "metadata": {},
   "outputs": [
    {
     "name": "stdout",
     "output_type": "stream",
     "text": [
      "<class 'pandas.core.frame.DataFrame'>\n",
      "RangeIndex: 1000 entries, 0 to 999\n",
      "Data columns (total 8 columns):\n",
      " #   Column            Non-Null Count  Dtype  \n",
      "---  ------            --------------  -----  \n",
      " 0   order_value       1000 non-null   float64\n",
      " 1   order_frequency   1000 non-null   int64  \n",
      " 2   discount_applied  1000 non-null   int64  \n",
      " 3   product_category  1000 non-null   object \n",
      " 4   product_sku       1000 non-null   object \n",
      " 5   size              1000 non-null   object \n",
      " 6   engagement_score  1000 non-null   int64  \n",
      " 7   inventory_status  1000 non-null   object \n",
      "dtypes: float64(1), int64(3), object(4)\n",
      "memory usage: 62.6+ KB\n"
     ]
    }
   ],
   "source": [
    "df.info()"
   ]
  },
  {
   "cell_type": "code",
   "execution_count": 220,
   "id": "a9ecf0b3-0dad-494f-a890-b93467e15619",
   "metadata": {},
   "outputs": [
    {
     "data": {
      "text/plain": [
       "discount_applied\n",
       "0     299\n",
       "15    114\n",
       "5     111\n",
       "20    103\n",
       "30    100\n",
       "25     91\n",
       "10     88\n",
       "50     48\n",
       "40     46\n",
       "Name: count, dtype: int64"
      ]
     },
     "execution_count": 220,
     "metadata": {},
     "output_type": "execute_result"
    }
   ],
   "source": [
    "df['discount_applied'].value_counts()"
   ]
  },
  {
   "cell_type": "code",
   "execution_count": 221,
   "id": "6e123a13-3bb2-40c2-a58d-bd088f5df221",
   "metadata": {},
   "outputs": [
    {
     "data": {
      "text/plain": [
       "product_category\n",
       "Jackets        175\n",
       "Jeans          173\n",
       "T-Shirts       169\n",
       "Shirts         169\n",
       "Dresses        166\n",
       "Sweatshirts    148\n",
       "Name: count, dtype: int64"
      ]
     },
     "execution_count": 221,
     "metadata": {},
     "output_type": "execute_result"
    }
   ],
   "source": [
    "df.product_category.value_counts()"
   ]
  },
  {
   "cell_type": "code",
   "execution_count": 222,
   "id": "f20b2ad4-8b7b-43d3-8184-66b897d6fcaa",
   "metadata": {},
   "outputs": [],
   "source": [
    "df = df.copy()\n",
    "df['Jackets'] = df['product_category'].apply(lambda x: 1 if 'Jacket' in x else 0)\n",
    "df['Jeans'] = df['product_category'].apply(lambda x: 1 if 'Jeans' in x else 0)\n",
    "df['T-Shirts'] = df['product_category'].apply(lambda x:1 if 'T-Shirts' in x else 0)\n",
    "df['Shirts'] = df['product_category'].apply(lambda x:1 if 'Shirts' in x else 0)\n",
    "df['Dresses'] = df['product_category'].apply(lambda x:1 if 'Dresses' in x else 0)\n",
    "df['Sweatshirts'] = df['product_category'].apply(lambda x:1 if 'Sweatshirts' in x else 0)"
   ]
  },
  {
   "cell_type": "code",
   "execution_count": 223,
   "id": "874ff8a4-8d3d-4b4c-83a3-ac8f2f0a5927",
   "metadata": {},
   "outputs": [
    {
     "data": {
      "text/html": [
       "<div>\n",
       "<style scoped>\n",
       "    .dataframe tbody tr th:only-of-type {\n",
       "        vertical-align: middle;\n",
       "    }\n",
       "\n",
       "    .dataframe tbody tr th {\n",
       "        vertical-align: top;\n",
       "    }\n",
       "\n",
       "    .dataframe thead th {\n",
       "        text-align: right;\n",
       "    }\n",
       "</style>\n",
       "<table border=\"1\" class=\"dataframe\">\n",
       "  <thead>\n",
       "    <tr style=\"text-align: right;\">\n",
       "      <th></th>\n",
       "      <th>order_value</th>\n",
       "      <th>order_frequency</th>\n",
       "      <th>discount_applied</th>\n",
       "      <th>product_category</th>\n",
       "      <th>product_sku</th>\n",
       "      <th>size</th>\n",
       "      <th>engagement_score</th>\n",
       "      <th>inventory_status</th>\n",
       "      <th>Jackets</th>\n",
       "      <th>Jeans</th>\n",
       "      <th>T-Shirts</th>\n",
       "      <th>Shirts</th>\n",
       "      <th>Dresses</th>\n",
       "      <th>Sweatshirts</th>\n",
       "    </tr>\n",
       "  </thead>\n",
       "  <tbody>\n",
       "    <tr>\n",
       "      <th>0</th>\n",
       "      <td>4015.21</td>\n",
       "      <td>9</td>\n",
       "      <td>5</td>\n",
       "      <td>Jackets</td>\n",
       "      <td>SKU0001</td>\n",
       "      <td>XXL</td>\n",
       "      <td>36</td>\n",
       "      <td>In Stock</td>\n",
       "      <td>1</td>\n",
       "      <td>0</td>\n",
       "      <td>0</td>\n",
       "      <td>0</td>\n",
       "      <td>0</td>\n",
       "      <td>0</td>\n",
       "    </tr>\n",
       "    <tr>\n",
       "      <th>1</th>\n",
       "      <td>2205.61</td>\n",
       "      <td>3</td>\n",
       "      <td>15</td>\n",
       "      <td>T-Shirts</td>\n",
       "      <td>SKU0002</td>\n",
       "      <td>S</td>\n",
       "      <td>37</td>\n",
       "      <td>Out of Stock</td>\n",
       "      <td>0</td>\n",
       "      <td>0</td>\n",
       "      <td>1</td>\n",
       "      <td>1</td>\n",
       "      <td>0</td>\n",
       "      <td>0</td>\n",
       "    </tr>\n",
       "    <tr>\n",
       "      <th>2</th>\n",
       "      <td>858.84</td>\n",
       "      <td>8</td>\n",
       "      <td>30</td>\n",
       "      <td>T-Shirts</td>\n",
       "      <td>SKU0003</td>\n",
       "      <td>L</td>\n",
       "      <td>95</td>\n",
       "      <td>In Stock</td>\n",
       "      <td>0</td>\n",
       "      <td>0</td>\n",
       "      <td>1</td>\n",
       "      <td>1</td>\n",
       "      <td>0</td>\n",
       "      <td>0</td>\n",
       "    </tr>\n",
       "    <tr>\n",
       "      <th>3</th>\n",
       "      <td>500.00</td>\n",
       "      <td>1</td>\n",
       "      <td>0</td>\n",
       "      <td>T-Shirts</td>\n",
       "      <td>SKU0004</td>\n",
       "      <td>XXL</td>\n",
       "      <td>10</td>\n",
       "      <td>In Stock</td>\n",
       "      <td>0</td>\n",
       "      <td>0</td>\n",
       "      <td>1</td>\n",
       "      <td>1</td>\n",
       "      <td>0</td>\n",
       "      <td>0</td>\n",
       "    </tr>\n",
       "    <tr>\n",
       "      <th>4</th>\n",
       "      <td>1843.50</td>\n",
       "      <td>9</td>\n",
       "      <td>40</td>\n",
       "      <td>Sweatshirts</td>\n",
       "      <td>SKU0005</td>\n",
       "      <td>L</td>\n",
       "      <td>0</td>\n",
       "      <td>In Stock</td>\n",
       "      <td>0</td>\n",
       "      <td>0</td>\n",
       "      <td>0</td>\n",
       "      <td>0</td>\n",
       "      <td>0</td>\n",
       "      <td>1</td>\n",
       "    </tr>\n",
       "  </tbody>\n",
       "</table>\n",
       "</div>"
      ],
      "text/plain": [
       "   order_value  order_frequency  discount_applied product_category  \\\n",
       "0      4015.21                9                 5          Jackets   \n",
       "1      2205.61                3                15         T-Shirts   \n",
       "2       858.84                8                30         T-Shirts   \n",
       "3       500.00                1                 0         T-Shirts   \n",
       "4      1843.50                9                40      Sweatshirts   \n",
       "\n",
       "  product_sku size  engagement_score inventory_status  Jackets  Jeans  \\\n",
       "0     SKU0001  XXL                36         In Stock        1      0   \n",
       "1     SKU0002    S                37     Out of Stock        0      0   \n",
       "2     SKU0003    L                95         In Stock        0      0   \n",
       "3     SKU0004  XXL                10         In Stock        0      0   \n",
       "4     SKU0005    L                 0         In Stock        0      0   \n",
       "\n",
       "   T-Shirts  Shirts  Dresses  Sweatshirts  \n",
       "0         0       0        0            0  \n",
       "1         1       1        0            0  \n",
       "2         1       1        0            0  \n",
       "3         1       1        0            0  \n",
       "4         0       0        0            1  "
      ]
     },
     "execution_count": 223,
     "metadata": {},
     "output_type": "execute_result"
    }
   ],
   "source": [
    "df.head()"
   ]
  },
  {
   "cell_type": "code",
   "execution_count": 224,
   "id": "8edf99e0-33dd-4723-8e9e-7897a8e09453",
   "metadata": {},
   "outputs": [],
   "source": [
    "reorder = [ 'order_value', 'order_frequency','discount_applied','product_category', \n",
    "         'product_sku', 'size', 'engagement_score', 'Jackets', 'Jeans', 'T-Shirts', 'Shirts', 'Dresses', 'Sweatshirts','inventory_status']\n",
    "df = df[reorder]"
   ]
  },
  {
   "cell_type": "code",
   "execution_count": 225,
   "id": "ea296671-c3bb-486c-b164-027330278384",
   "metadata": {},
   "outputs": [
    {
     "data": {
      "text/html": [
       "<div>\n",
       "<style scoped>\n",
       "    .dataframe tbody tr th:only-of-type {\n",
       "        vertical-align: middle;\n",
       "    }\n",
       "\n",
       "    .dataframe tbody tr th {\n",
       "        vertical-align: top;\n",
       "    }\n",
       "\n",
       "    .dataframe thead th {\n",
       "        text-align: right;\n",
       "    }\n",
       "</style>\n",
       "<table border=\"1\" class=\"dataframe\">\n",
       "  <thead>\n",
       "    <tr style=\"text-align: right;\">\n",
       "      <th></th>\n",
       "      <th>order_value</th>\n",
       "      <th>order_frequency</th>\n",
       "      <th>discount_applied</th>\n",
       "      <th>product_category</th>\n",
       "      <th>product_sku</th>\n",
       "      <th>size</th>\n",
       "      <th>engagement_score</th>\n",
       "      <th>Jackets</th>\n",
       "      <th>Jeans</th>\n",
       "      <th>T-Shirts</th>\n",
       "      <th>Shirts</th>\n",
       "      <th>Dresses</th>\n",
       "      <th>Sweatshirts</th>\n",
       "      <th>inventory_status</th>\n",
       "    </tr>\n",
       "  </thead>\n",
       "  <tbody>\n",
       "    <tr>\n",
       "      <th>0</th>\n",
       "      <td>4015.21</td>\n",
       "      <td>9</td>\n",
       "      <td>5</td>\n",
       "      <td>Jackets</td>\n",
       "      <td>SKU0001</td>\n",
       "      <td>XXL</td>\n",
       "      <td>36</td>\n",
       "      <td>1</td>\n",
       "      <td>0</td>\n",
       "      <td>0</td>\n",
       "      <td>0</td>\n",
       "      <td>0</td>\n",
       "      <td>0</td>\n",
       "      <td>In Stock</td>\n",
       "    </tr>\n",
       "    <tr>\n",
       "      <th>1</th>\n",
       "      <td>2205.61</td>\n",
       "      <td>3</td>\n",
       "      <td>15</td>\n",
       "      <td>T-Shirts</td>\n",
       "      <td>SKU0002</td>\n",
       "      <td>S</td>\n",
       "      <td>37</td>\n",
       "      <td>0</td>\n",
       "      <td>0</td>\n",
       "      <td>1</td>\n",
       "      <td>1</td>\n",
       "      <td>0</td>\n",
       "      <td>0</td>\n",
       "      <td>Out of Stock</td>\n",
       "    </tr>\n",
       "    <tr>\n",
       "      <th>2</th>\n",
       "      <td>858.84</td>\n",
       "      <td>8</td>\n",
       "      <td>30</td>\n",
       "      <td>T-Shirts</td>\n",
       "      <td>SKU0003</td>\n",
       "      <td>L</td>\n",
       "      <td>95</td>\n",
       "      <td>0</td>\n",
       "      <td>0</td>\n",
       "      <td>1</td>\n",
       "      <td>1</td>\n",
       "      <td>0</td>\n",
       "      <td>0</td>\n",
       "      <td>In Stock</td>\n",
       "    </tr>\n",
       "    <tr>\n",
       "      <th>3</th>\n",
       "      <td>500.00</td>\n",
       "      <td>1</td>\n",
       "      <td>0</td>\n",
       "      <td>T-Shirts</td>\n",
       "      <td>SKU0004</td>\n",
       "      <td>XXL</td>\n",
       "      <td>10</td>\n",
       "      <td>0</td>\n",
       "      <td>0</td>\n",
       "      <td>1</td>\n",
       "      <td>1</td>\n",
       "      <td>0</td>\n",
       "      <td>0</td>\n",
       "      <td>In Stock</td>\n",
       "    </tr>\n",
       "    <tr>\n",
       "      <th>4</th>\n",
       "      <td>1843.50</td>\n",
       "      <td>9</td>\n",
       "      <td>40</td>\n",
       "      <td>Sweatshirts</td>\n",
       "      <td>SKU0005</td>\n",
       "      <td>L</td>\n",
       "      <td>0</td>\n",
       "      <td>0</td>\n",
       "      <td>0</td>\n",
       "      <td>0</td>\n",
       "      <td>0</td>\n",
       "      <td>0</td>\n",
       "      <td>1</td>\n",
       "      <td>In Stock</td>\n",
       "    </tr>\n",
       "  </tbody>\n",
       "</table>\n",
       "</div>"
      ],
      "text/plain": [
       "   order_value  order_frequency  discount_applied product_category  \\\n",
       "0      4015.21                9                 5          Jackets   \n",
       "1      2205.61                3                15         T-Shirts   \n",
       "2       858.84                8                30         T-Shirts   \n",
       "3       500.00                1                 0         T-Shirts   \n",
       "4      1843.50                9                40      Sweatshirts   \n",
       "\n",
       "  product_sku size  engagement_score  Jackets  Jeans  T-Shirts  Shirts  \\\n",
       "0     SKU0001  XXL                36        1      0         0       0   \n",
       "1     SKU0002    S                37        0      0         1       1   \n",
       "2     SKU0003    L                95        0      0         1       1   \n",
       "3     SKU0004  XXL                10        0      0         1       1   \n",
       "4     SKU0005    L                 0        0      0         0       0   \n",
       "\n",
       "   Dresses  Sweatshirts inventory_status  \n",
       "0        0            0         In Stock  \n",
       "1        0            0     Out of Stock  \n",
       "2        0            0         In Stock  \n",
       "3        0            0         In Stock  \n",
       "4        0            1         In Stock  "
      ]
     },
     "execution_count": 225,
     "metadata": {},
     "output_type": "execute_result"
    }
   ],
   "source": [
    "df.head()"
   ]
  },
  {
   "cell_type": "code",
   "execution_count": 226,
   "id": "5a34903d-3438-4b68-ab82-5947c0e59340",
   "metadata": {},
   "outputs": [],
   "source": [
    "# Dropping of the product_category\n",
    "df.drop('product_category',axis=1, inplace=True)"
   ]
  },
  {
   "cell_type": "code",
   "execution_count": 227,
   "id": "00b05033-85fc-4e84-a22e-9c6f5f0e792d",
   "metadata": {},
   "outputs": [
    {
     "name": "stdout",
     "output_type": "stream",
     "text": [
      "<class 'pandas.core.frame.DataFrame'>\n",
      "RangeIndex: 1000 entries, 0 to 999\n",
      "Data columns (total 13 columns):\n",
      " #   Column            Non-Null Count  Dtype  \n",
      "---  ------            --------------  -----  \n",
      " 0   order_value       1000 non-null   float64\n",
      " 1   order_frequency   1000 non-null   int64  \n",
      " 2   discount_applied  1000 non-null   int64  \n",
      " 3   product_sku       1000 non-null   object \n",
      " 4   size              1000 non-null   object \n",
      " 5   engagement_score  1000 non-null   int64  \n",
      " 6   Jackets           1000 non-null   int64  \n",
      " 7   Jeans             1000 non-null   int64  \n",
      " 8   T-Shirts          1000 non-null   int64  \n",
      " 9   Shirts            1000 non-null   int64  \n",
      " 10  Dresses           1000 non-null   int64  \n",
      " 11  Sweatshirts       1000 non-null   int64  \n",
      " 12  inventory_status  1000 non-null   object \n",
      "dtypes: float64(1), int64(9), object(3)\n",
      "memory usage: 101.7+ KB\n"
     ]
    }
   ],
   "source": [
    "df.info()"
   ]
  },
  {
   "cell_type": "markdown",
   "id": "21a186f3-7f71-4410-82d9-7b98b0c6e487",
   "metadata": {},
   "source": [
    "# Splitting the column into X and y subsets"
   ]
  },
  {
   "cell_type": "code",
   "execution_count": 228,
   "id": "c1e081f1-84ce-4f8f-a9e9-2dc1d859b4da",
   "metadata": {},
   "outputs": [],
   "source": [
    "X =df.drop(columns=['inventory_status'])\n",
    "y = df.inventory_status"
   ]
  },
  {
   "cell_type": "code",
   "execution_count": 229,
   "id": "148777f6-20bc-4f0e-9e73-d8a649558921",
   "metadata": {},
   "outputs": [
    {
     "name": "stdout",
     "output_type": "stream",
     "text": [
      "<class 'pandas.core.frame.DataFrame'>\n",
      "RangeIndex: 1000 entries, 0 to 999\n",
      "Data columns (total 12 columns):\n",
      " #   Column            Non-Null Count  Dtype  \n",
      "---  ------            --------------  -----  \n",
      " 0   order_value       1000 non-null   float64\n",
      " 1   order_frequency   1000 non-null   int64  \n",
      " 2   discount_applied  1000 non-null   int64  \n",
      " 3   product_sku       1000 non-null   object \n",
      " 4   size              1000 non-null   object \n",
      " 5   engagement_score  1000 non-null   int64  \n",
      " 6   Jackets           1000 non-null   int64  \n",
      " 7   Jeans             1000 non-null   int64  \n",
      " 8   T-Shirts          1000 non-null   int64  \n",
      " 9   Shirts            1000 non-null   int64  \n",
      " 10  Dresses           1000 non-null   int64  \n",
      " 11  Sweatshirts       1000 non-null   int64  \n",
      "dtypes: float64(1), int64(9), object(2)\n",
      "memory usage: 93.9+ KB\n"
     ]
    }
   ],
   "source": [
    "X.info()"
   ]
  },
  {
   "cell_type": "code",
   "execution_count": 230,
   "id": "f2f53a68-cb53-4b02-a05f-85c2d1aa9d4d",
   "metadata": {},
   "outputs": [
    {
     "name": "stdout",
     "output_type": "stream",
     "text": [
      "<class 'pandas.core.series.Series'>\n",
      "RangeIndex: 1000 entries, 0 to 999\n",
      "Series name: inventory_status\n",
      "Non-Null Count  Dtype \n",
      "--------------  ----- \n",
      "1000 non-null   object\n",
      "dtypes: object(1)\n",
      "memory usage: 7.9+ KB\n"
     ]
    }
   ],
   "source": [
    "y.info()"
   ]
  },
  {
   "cell_type": "code",
   "execution_count": 231,
   "id": "a736cd26-4a81-44d6-9b2d-71b25315a920",
   "metadata": {},
   "outputs": [
    {
     "data": {
      "text/plain": [
       "0          In Stock\n",
       "1      Out of Stock\n",
       "2          In Stock\n",
       "3          In Stock\n",
       "4          In Stock\n",
       "           ...     \n",
       "995        In Stock\n",
       "996        In Stock\n",
       "997        In Stock\n",
       "998        In Stock\n",
       "999        In Stock\n",
       "Name: inventory_status, Length: 1000, dtype: object"
      ]
     },
     "execution_count": 231,
     "metadata": {},
     "output_type": "execute_result"
    }
   ],
   "source": [
    "y"
   ]
  },
  {
   "cell_type": "markdown",
   "id": "cf838997-6658-4534-a1e0-dc5148113d48",
   "metadata": {},
   "source": [
    "# Label Encoding the y dataset "
   ]
  },
  {
   "cell_type": "code",
   "execution_count": 232,
   "id": "3358c5e0-827d-4ed3-81d9-9df8659e32aa",
   "metadata": {},
   "outputs": [],
   "source": [
    "from sklearn.preprocessing import LabelEncoder\n",
    "le = LabelEncoder()\n",
    "y_encoder = le.fit_transform(y)"
   ]
  },
  {
   "cell_type": "markdown",
   "id": "b9ac9987-bf40-4847-8028-90b74a4e8d9c",
   "metadata": {},
   "source": [
    "# Spilitting the sets into test train set"
   ]
  },
  {
   "cell_type": "code",
   "execution_count": 233,
   "id": "df75290c-2127-4e4c-9c48-53f64d133feb",
   "metadata": {},
   "outputs": [],
   "source": [
    "from sklearn.model_selection import train_test_split\n",
    "X_train, X_test, y_train, y_test = train_test_split(X,y_encoder,test_size=0.25, random_state=42)"
   ]
  },
  {
   "cell_type": "markdown",
   "id": "27242a09-5ed2-464b-8522-7df228e2aa55",
   "metadata": {},
   "source": [
    "# Creating ML pipelines for Model training"
   ]
  },
  {
   "cell_type": "markdown",
   "id": "e9b404aa-96de-4fa5-8ba1-539698baf50a",
   "metadata": {},
   "source": [
    "## Logistic Regression "
   ]
  },
  {
   "cell_type": "code",
   "execution_count": 234,
   "id": "0629b7e7-6524-4985-bf75-0c02b19f6197",
   "metadata": {},
   "outputs": [
    {
     "name": "stdout",
     "output_type": "stream",
     "text": [
      "Confusion Matrix:\n",
      " [[230   0]\n",
      " [ 20   0]]\n",
      "Accuracy Score: 0.92\n"
     ]
    }
   ],
   "source": [
    "from sklearn.compose import ColumnTransformer\n",
    "from sklearn.linear_model import LogisticRegression\n",
    "from sklearn.preprocessing import OneHotEncoder, StandardScaler\n",
    "from sklearn.pipeline import Pipeline \n",
    "from sklearn.metrics import accuracy_score, confusion_matrix\n",
    "\n",
    "# Identify categorical and numerical column indices\n",
    "categorical_cols = [3, 4]  \n",
    "numerical_cols = [0, 1, 2, 5, 6, 7, 8, 9, 10, 11] \n",
    "\n",
    "# Step 1: Column Transformer with OneHotEncoder for categorical & StandardScaler for numerical\n",
    "step1 = ColumnTransformer(transformers=[\n",
    "    ('encoder', OneHotEncoder(sparse_output=False, handle_unknown='ignore', drop='first'), categorical_cols),\n",
    "    ('scaler', StandardScaler(), numerical_cols)\n",
    "], remainder='passthrough')\n",
    "\n",
    "# Step 2: Logistic Regression with increased max_iter\n",
    "step2 = LogisticRegression(solver='saga', max_iter=2000, random_state=0)\n",
    "\n",
    "# Create Pipeline\n",
    "pipe = Pipeline([\n",
    "    ('step1', step1),\n",
    "    ('step2', step2)\n",
    "])\n",
    "\n",
    "# Fit model\n",
    "pipe.fit(X_train, y_train)\n",
    "\n",
    "# Predict\n",
    "y_pred = pipe.predict(X_test)\n",
    "\n",
    "# Evaluation\n",
    "print('Confusion Matrix:\\n', confusion_matrix(y_test, y_pred))\n",
    "logi_score = accuracy_score(y_test, y_pred)\n",
    "print('Accuracy Score:',logi_score)"
   ]
  },
  {
   "cell_type": "markdown",
   "id": "9fde523f-abb5-4d66-810f-d113eebc0180",
   "metadata": {},
   "source": [
    "# Classification Report Of Logistic Regression"
   ]
  },
  {
   "cell_type": "code",
   "execution_count": 235,
   "id": "a41a8d5f-41c0-45ea-b17f-9414cb005c9f",
   "metadata": {},
   "outputs": [
    {
     "name": "stdout",
     "output_type": "stream",
     "text": [
      "              precision    recall  f1-score   support\n",
      "\n",
      "           0       0.92      1.00      0.96       230\n",
      "           1       0.00      0.00      0.00        20\n",
      "\n",
      "    accuracy                           0.92       250\n",
      "   macro avg       0.46      0.50      0.48       250\n",
      "weighted avg       0.85      0.92      0.88       250\n",
      "\n"
     ]
    }
   ],
   "source": [
    "from sklearn.metrics import classification_report\n",
    "logi_CR = classification_report(y_test,y_pred)\n",
    "print(logi_CR)"
   ]
  },
  {
   "cell_type": "markdown",
   "id": "9f006f4f-579c-4667-b951-ed863c0be96b",
   "metadata": {},
   "source": [
    "# Decision Tree Classification"
   ]
  },
  {
   "cell_type": "code",
   "execution_count": 236,
   "id": "d331e133-eed4-487a-a92d-0614fb16f374",
   "metadata": {},
   "outputs": [
    {
     "name": "stdout",
     "output_type": "stream",
     "text": [
      "Confusion Matrix: [[229   1]\n",
      " [ 20   0]]\n",
      "accuracy_score: 0.916\n"
     ]
    }
   ],
   "source": [
    "from sklearn.tree import DecisionTreeClassifier\n",
    "step3 = DecisionTreeClassifier(random_state=0)\n",
    "\n",
    "pipe = Pipeline([ ('step1', step1),\n",
    "                ('step3',step3)\n",
    "                ])\n",
    "pipe.fit(X_train, y_train)\n",
    "y_pred = pipe.predict(X_test)\n",
    "\n",
    "print('Confusion Matrix:' , confusion_matrix(y_test, y_pred))\n",
    "DT_score = accuracy_score(y_test, y_pred) \n",
    "print('accuracy_score:',DT_score)"
   ]
  },
  {
   "cell_type": "markdown",
   "id": "38cd3e6d-6ca6-40ec-8f40-5e4b93940d94",
   "metadata": {},
   "source": [
    "## Decision TreeClassification Report"
   ]
  },
  {
   "cell_type": "code",
   "execution_count": 237,
   "id": "0ae76e53-bdb7-492f-a4cc-461e62af5ce5",
   "metadata": {},
   "outputs": [
    {
     "name": "stdout",
     "output_type": "stream",
     "text": [
      "              precision    recall  f1-score   support\n",
      "\n",
      "           0       0.92      1.00      0.96       230\n",
      "           1       0.00      0.00      0.00        20\n",
      "\n",
      "    accuracy                           0.92       250\n",
      "   macro avg       0.46      0.50      0.48       250\n",
      "weighted avg       0.85      0.92      0.88       250\n",
      "\n"
     ]
    }
   ],
   "source": [
    "from sklearn.metrics import classification_report\n",
    "DT_CR = classification_report(y_test,y_pred)\n",
    "print(DT_CR)"
   ]
  },
  {
   "cell_type": "markdown",
   "id": "24074009-a571-4d69-963f-74f216cf35ad",
   "metadata": {},
   "source": [
    "## Random Forest Classification"
   ]
  },
  {
   "cell_type": "code",
   "execution_count": 238,
   "id": "32f91334-898c-4130-9dd3-5d2433508b4f",
   "metadata": {},
   "outputs": [
    {
     "name": "stdout",
     "output_type": "stream",
     "text": [
      "Confusion Matrix: [[230   0]\n",
      " [ 20   0]]\n",
      "accuracy_score: 0.92\n"
     ]
    }
   ],
   "source": [
    "from sklearn.ensemble import RandomForestClassifier\n",
    "\n",
    "step4 = RandomForestClassifier(random_state=0)\n",
    "\n",
    "pipe = Pipeline([ ('step1', step1),\n",
    "                ('step4',step4)\n",
    "                ])\n",
    "pipe.fit(X_train, y_train)\n",
    "y_pred = pipe.predict(X_test)\n",
    "\n",
    "print('Confusion Matrix:' , confusion_matrix(y_test, y_pred))\n",
    "RF_score = accuracy_score(y_test, y_pred)\n",
    "print('accuracy_score:', RF_score)"
   ]
  },
  {
   "cell_type": "markdown",
   "id": "5a503c92-d04e-43d2-b97d-5606c37adb28",
   "metadata": {},
   "source": [
    "# Classification Report Of Random Forest"
   ]
  },
  {
   "cell_type": "code",
   "execution_count": 239,
   "id": "16297b80-ceda-4423-9a9c-4edc21724430",
   "metadata": {},
   "outputs": [
    {
     "name": "stdout",
     "output_type": "stream",
     "text": [
      "              precision    recall  f1-score   support\n",
      "\n",
      "           0       0.92      1.00      0.96       230\n",
      "           1       0.00      0.00      0.00        20\n",
      "\n",
      "    accuracy                           0.92       250\n",
      "   macro avg       0.46      0.50      0.48       250\n",
      "weighted avg       0.85      0.92      0.88       250\n",
      "\n"
     ]
    }
   ],
   "source": [
    "from sklearn.metrics import classification_report\n",
    "RF_CR = classification_report(y_test,y_pred)\n",
    "print(classification_report(y_test,y_pred))"
   ]
  },
  {
   "cell_type": "markdown",
   "id": "7f85ef8e-fefc-4e39-b646-6378f616ac73",
   "metadata": {},
   "source": [
    "# SVM"
   ]
  },
  {
   "cell_type": "code",
   "execution_count": 240,
   "id": "7fbb74c4-2b7b-45a4-99b1-db97168d15d3",
   "metadata": {},
   "outputs": [
    {
     "name": "stdout",
     "output_type": "stream",
     "text": [
      "accuracy_score: 0.92\n"
     ]
    }
   ],
   "source": [
    "from sklearn.svm import SVC\n",
    "step5 = SVC(random_state=0)\n",
    "\n",
    "pipe = Pipeline([ ('step1', step1),\n",
    "                ('step5',step5)\n",
    "                ])\n",
    "pipe.fit(X_train, y_train)\n",
    "y_pred = pipe.predict(X_test)\n",
    "\n",
    "# print('Confusion Matrix:' , confusion_matrix(y_test, y_pred))\n",
    "SVM_score = accuracy_score(y_test, y_pred)\n",
    "print('accuracy_score:', SVM_score)"
   ]
  },
  {
   "cell_type": "markdown",
   "id": "65dc14c2-544a-42ab-8769-c1067ea8a25b",
   "metadata": {},
   "source": [
    "# Classification Report Of SVM"
   ]
  },
  {
   "cell_type": "code",
   "execution_count": 241,
   "id": "d07e0f8d-7060-46a5-ab17-f2c0623ea193",
   "metadata": {},
   "outputs": [
    {
     "name": "stdout",
     "output_type": "stream",
     "text": [
      "              precision    recall  f1-score   support\n",
      "\n",
      "           0       0.92      1.00      0.96       230\n",
      "           1       0.00      0.00      0.00        20\n",
      "\n",
      "    accuracy                           0.92       250\n",
      "   macro avg       0.46      0.50      0.48       250\n",
      "weighted avg       0.85      0.92      0.88       250\n",
      "\n"
     ]
    }
   ],
   "source": [
    "from sklearn.metrics import classification_report\n",
    "svm_CR =classification_report(y_test,y_pred) \n",
    "print(svm_CR)"
   ]
  },
  {
   "cell_type": "markdown",
   "id": "f9de31a3-80ea-48d6-89b0-cc0f31f03abf",
   "metadata": {},
   "source": [
    "# KNN"
   ]
  },
  {
   "cell_type": "code",
   "execution_count": 242,
   "id": "490916c1-09c5-4f69-9f49-8dc794dde969",
   "metadata": {},
   "outputs": [
    {
     "name": "stdout",
     "output_type": "stream",
     "text": [
      "accuracy_score: 0.916\n"
     ]
    }
   ],
   "source": [
    "from sklearn.neighbors import KNeighborsClassifier\n",
    "step6 = KNeighborsClassifier(n_neighbors=5)\n",
    "\n",
    "pipe = Pipeline([ ('step1', step1),\n",
    "                ('step6',step6)\n",
    "                ])\n",
    "pipe.fit(X_train,y_train)\n",
    "y_pred = pipe.predict(X_test)\n",
    "print('accuracy_score:', accuracy_score(y_test, y_pred))  # Checking the accuracy Score"
   ]
  },
  {
   "cell_type": "markdown",
   "id": "2b61c1bb-1084-4c78-ae61-bb70c34151f6",
   "metadata": {},
   "source": [
    "# Classification Report KNN"
   ]
  },
  {
   "cell_type": "code",
   "execution_count": 243,
   "id": "3b3c3be4-0165-4bd3-9810-e8a187159681",
   "metadata": {},
   "outputs": [
    {
     "name": "stdout",
     "output_type": "stream",
     "text": [
      "              precision    recall  f1-score   support\n",
      "\n",
      "           0       0.92      1.00      0.96       230\n",
      "           1       0.00      0.00      0.00        20\n",
      "\n",
      "    accuracy                           0.92       250\n",
      "   macro avg       0.46      0.50      0.48       250\n",
      "weighted avg       0.85      0.92      0.88       250\n",
      "\n"
     ]
    }
   ],
   "source": [
    "from sklearn.metrics import classification_report\n",
    "print(classification_report(y_test,y_pred))"
   ]
  },
  {
   "cell_type": "markdown",
   "id": "ec627e22-101b-4a82-8d04-22a66ec49fc8",
   "metadata": {},
   "source": [
    "# Analysing The Classification Reports and Accuracy Score\n",
    "All the models (KNN, SVM, Random Forest, Decision Tree, and Logistic Regression) are showing the same classification report, which indicates a major issue with class imbalance. Here’s what’s happening:\n",
    "1. High Accuracy but Poor Performance on Minority Class:\n",
    "Accuracy is 92% because class \"0\" (majority class) is predicted correctly.\n",
    "Precision, Recall, and F1-score for class \"1\" are all 0.00, meaning the models are completely failing to detect this class.\n",
    "2. Weighted Avg vs. Macro Avg:\n",
    "    * Weighted Avg (~0.85-0.88 F1-score) is misleading because it considers class imbalance.\n",
    "    * Macro Avg (~0.46-0.50 F1-score) correctly reflects poor performance due to class \"1\" being ignored.\n",
    "3. Which Model is Best?\n",
    "Since all models give the same results, none of them can be considered \"best.\" The real issue is that they are biased towards the majority class (class \"0\") and completely failing to classify class \"1.\""
   ]
  },
  {
   "cell_type": "code",
   "execution_count": 244,
   "id": "8162b867-aac9-4922-a466-b25a5d3aabf7",
   "metadata": {},
   "outputs": [
    {
     "name": "stdout",
     "output_type": "stream",
     "text": [
      "     order_value  order_frequency  discount_applied  product_sku size  \\\n",
      "521      1659.32                8                 0          522    M   \n",
      "737      3719.44                6                 0          738   XL   \n",
      "740       896.12                2                30          741    S   \n",
      "660      4816.79                8                25          661    M   \n",
      "411      5344.74                7                 0          412   XL   \n",
      "\n",
      "     engagement_score  Jackets  Jeans  T-Shirts  Shirts  Dresses  Sweatshirts  \n",
      "521                73        1      0         0       0        0            0  \n",
      "737                19        0      0         0       0        1            0  \n",
      "740                71        0      0         1       1        0            0  \n",
      "660                43        0      0         1       1        0            0  \n",
      "411                89        0      0         0       0        1            0  \n"
     ]
    }
   ],
   "source": [
    "X_test['product_sku'] = X_test['product_sku'].str.replace('SKU', '', regex=True).astype(int)\n",
    "\n",
    "# Display the updated DataFrame\n",
    "print(X_test.head())"
   ]
  },
  {
   "cell_type": "code",
   "execution_count": 245,
   "id": "7ef7fa18-ff87-4697-8bb4-6ccc156cafb7",
   "metadata": {},
   "outputs": [],
   "source": [
    "le = LabelEncoder()\n",
    "X_test['size'] = le.fit_transform(X_test['size'])"
   ]
  },
  {
   "cell_type": "markdown",
   "id": "86dbc7e0-1a06-4901-9ec8-8882f91d799b",
   "metadata": {},
   "source": [
    "## Using SMOTE for OverSampling "
   ]
  },
  {
   "cell_type": "code",
   "execution_count": 246,
   "id": "7714a344-099d-482c-be78-c33d590b12f4",
   "metadata": {},
   "outputs": [
    {
     "name": "stdout",
     "output_type": "stream",
     "text": [
      "Before SMOTE: Counter({0: 669, 1: 81})\n",
      "After SMOTE: Counter({0: 669, 1: 669})\n"
     ]
    }
   ],
   "source": [
    "from imblearn.over_sampling import SMOTE\n",
    "from sklearn.preprocessing import LabelEncoder\n",
    "from collections import Counter\n",
    "\n",
    "# Identify categorical columns that need encoding\n",
    "categorical_cols = ['product_sku', 'size']  # Only these need encoding\n",
    "\n",
    "# Initialize label encoders\n",
    "label_encoders = {}\n",
    "\n",
    "for col in categorical_cols:\n",
    "    if col in X_train.columns:\n",
    "        le = LabelEncoder()\n",
    "        X_train[col] = le.fit_transform(X_train[col])\n",
    "        label_encoders[col] = le  # Store encoders for later use\n",
    "    else:\n",
    "        print(f\"Warning: Column '{col}' not found in X_train\")\n",
    "\n",
    "# Apply SMOTE\n",
    "smote = SMOTE(sampling_strategy='auto', random_state=42)\n",
    "X_train_resampled, y_train_resampled = smote.fit_resample(X_train, y_train)\n",
    "\n",
    "# Print class distribution before and after SMOTE\n",
    "print(\"Before SMOTE:\", Counter(y_train))\n",
    "print(\"After SMOTE:\", Counter(y_train_resampled))\n"
   ]
  },
  {
   "cell_type": "markdown",
   "id": "25cfdb6d-9de6-4137-9c22-402153b84758",
   "metadata": {},
   "source": [
    "## Logistic Regression on resampled data"
   ]
  },
  {
   "cell_type": "code",
   "execution_count": 183,
   "id": "b3389e1b-dfa4-44f7-9aa6-2edabe5347c9",
   "metadata": {},
   "outputs": [
    {
     "name": "stdout",
     "output_type": "stream",
     "text": [
      "Logistic Regression Performance:\n",
      "{'Accuracy': 0.92, 'Precision': 0.0, 'Recall': 0.0, 'F1-score': 0.0, 'AUC-ROC': 0.4960869565217392}\n"
     ]
    }
   ],
   "source": [
    "from sklearn.linear_model import LogisticRegression\n",
    "from sklearn.metrics import accuracy_score, precision_score, recall_score, f1_score, roc_auc_score\n",
    "\n",
    "# Train Logistic Regression\n",
    "log_model = LogisticRegression()\n",
    "log_model.fit(X_train_resampled, y_train_resampled)\n",
    "\n",
    "# Predict\n",
    "y_pred_log = log_model.predict(X_test)\n",
    "y_pred_proba_log = log_model.predict_proba(X_test)[:, 1]\n",
    "\n",
    "# Evaluate\n",
    "log_metrics = {\n",
    "    \"Accuracy\": accuracy_score(y_test, y_pred_log),\n",
    "    \"Precision\": precision_score(y_test, y_pred_log),\n",
    "    \"Recall\": recall_score(y_test, y_pred_log),\n",
    "    \"F1-score\": f1_score(y_test, y_pred_log),\n",
    "    \"AUC-ROC\": roc_auc_score(y_test, y_pred_proba_log)\n",
    "}\n",
    "\n",
    "print(\"Logistic Regression Performance:\")\n",
    "print(log_metrics)\n",
    "\n"
   ]
  },
  {
   "cell_type": "markdown",
   "id": "36e997d5-0f18-4a0e-978d-bba98118bc62",
   "metadata": {},
   "source": [
    "## Random Forest on resampled data"
   ]
  },
  {
   "cell_type": "code",
   "execution_count": 185,
   "id": "1f8dfc74-28d9-43eb-9361-2147a6823775",
   "metadata": {},
   "outputs": [
    {
     "name": "stdout",
     "output_type": "stream",
     "text": [
      "Random Forest Performance:\n",
      "{'Accuracy': 0.92, 'Precision': 0.0, 'Recall': 0.0, 'F1-score': 0.0, 'AUC-ROC': 0.5478260869565217}\n"
     ]
    }
   ],
   "source": [
    "from sklearn.ensemble import RandomForestClassifier\n",
    "\n",
    "# Train Random Forest\n",
    "rf_model = RandomForestClassifier(n_estimators=100, random_state=42)\n",
    "rf_model.fit(X_train_resampled, y_train_resampled)\n",
    "\n",
    "# Predict\n",
    "y_pred_rf = rf_model.predict(X_test)\n",
    "y_pred_proba_rf = rf_model.predict_proba(X_test)[:, 1]\n",
    "\n",
    "# Evaluate\n",
    "rf_metrics = {\n",
    "    \"Accuracy\": accuracy_score(y_test, y_pred_rf),\n",
    "    \"Precision\": precision_score(y_test, y_pred_rf),\n",
    "    \"Recall\": recall_score(y_test, y_pred_rf),\n",
    "    \"F1-score\": f1_score(y_test, y_pred_rf),\n",
    "    \"AUC-ROC\": roc_auc_score(y_test, y_pred_proba_rf)\n",
    "}\n",
    "\n",
    "print(\"Random Forest Performance:\")\n",
    "print(rf_metrics)\n"
   ]
  },
  {
   "cell_type": "markdown",
   "id": "e058c13b-1f3a-4be8-8257-903792f115fe",
   "metadata": {},
   "source": [
    "## XGBOOST"
   ]
  },
  {
   "cell_type": "code",
   "execution_count": 186,
   "id": "f6d5a66b-f61c-4edf-85cf-b1401549c6fa",
   "metadata": {},
   "outputs": [
    {
     "name": "stdout",
     "output_type": "stream",
     "text": [
      "XGBoost Performance:\n",
      "{'Accuracy': 0.912, 'Precision': 0.0, 'Recall': 0.0, 'F1-score': 0.0, 'AUC-ROC': 0.47771739130434787}\n"
     ]
    }
   ],
   "source": [
    "import xgboost as xgb\n",
    "\n",
    "# Train XGBoost\n",
    "xgb_model = xgb.XGBClassifier(use_label_encoder=False, eval_metric='logloss', random_state=42)\n",
    "xgb_model.fit(X_train_resampled, y_train_resampled)\n",
    "\n",
    "# Predict\n",
    "y_pred_xgb = xgb_model.predict(X_test)\n",
    "y_pred_proba_xgb = xgb_model.predict_proba(X_test)[:, 1]\n",
    "\n",
    "# Evaluate\n",
    "xgb_metrics = {\n",
    "    \"Accuracy\": accuracy_score(y_test, y_pred_xgb),\n",
    "    \"Precision\": precision_score(y_test, y_pred_xgb),\n",
    "    \"Recall\": recall_score(y_test, y_pred_xgb),\n",
    "    \"F1-score\": f1_score(y_test, y_pred_xgb),\n",
    "    \"AUC-ROC\": roc_auc_score(y_test, y_pred_proba_xgb)\n",
    "}\n",
    "\n",
    "print(\"XGBoost Performance:\")\n",
    "print(xgb_metrics)\n"
   ]
  },
  {
   "cell_type": "code",
   "execution_count": 189,
   "id": "1b3bb0f2-b7b4-4481-b29f-727ae2cc1227",
   "metadata": {
    "scrolled": true
   },
   "outputs": [
    {
     "name": "stdout",
     "output_type": "stream",
     "text": [
      "                     Accuracy  Precision  Recall  F1-score   AUC-ROC\n",
      "Logistic Regression     0.920        0.0     0.0       0.0  0.496087\n",
      "Random Forest           0.920        0.0     0.0       0.0  0.547826\n",
      "XGBoost                 0.912        0.0     0.0       0.0  0.477717\n"
     ]
    }
   ],
   "source": [
    "import pandas as pd\n",
    "\n",
    "performance_df = pd.DataFrame({\n",
    "    \"Logistic Regression\": log_metrics,\n",
    "    \"Random Forest\": rf_metrics,\n",
    "    \"XGBoost\": xgb_metrics\n",
    "}).T\n",
    "\n",
    "print(performance_df)\n"
   ]
  },
  {
   "cell_type": "markdown",
   "id": "9d37813b-e5e0-4e18-844b-6dd063b698af",
   "metadata": {},
   "source": [
    "## Conclusion \n",
    "- Based on the evaluation metrics, none of the models—Logistic Regression, Random Forest, or XGBoost—can be considered effective for this classification problem. While accuracy is relatively high (~91-92%), the Precision, Recall, and F1-score are all 0.0, indicating that the models fail to correctly classify the positive class. Additionally, the AUC-ROC values hover around 0.5, suggesting that the models are no better than random guessing.\n",
    "\n",
    "- This poor performance is likely due to imbalanced data, where one class significantly outweighs the other, leading the models to predict only the majority class. As a result, none of the models can be chosen for reliable classification.\n",
    " - Below is the class differences of the dataset"
   ]
  },
  {
   "cell_type": "code",
   "execution_count": 190,
   "id": "a4cea912-9819-4c29-8433-86eff5459045",
   "metadata": {},
   "outputs": [
    {
     "name": "stdout",
     "output_type": "stream",
     "text": [
      "Counter({0: 230, 1: 20})\n"
     ]
    }
   ],
   "source": [
    "from collections import Counter\n",
    "print(Counter(y_test))"
   ]
  },
  {
   "cell_type": "code",
   "execution_count": null,
   "id": "5ab92b43-e37f-447d-87d2-03c0ab76b02e",
   "metadata": {},
   "outputs": [],
   "source": []
  }
 ],
 "metadata": {
  "kernelspec": {
   "display_name": "Python 3 (ipykernel)",
   "language": "python",
   "name": "python3"
  },
  "language_info": {
   "codemirror_mode": {
    "name": "ipython",
    "version": 3
   },
   "file_extension": ".py",
   "mimetype": "text/x-python",
   "name": "python",
   "nbconvert_exporter": "python",
   "pygments_lexer": "ipython3",
   "version": "3.12.7"
  }
 },
 "nbformat": 4,
 "nbformat_minor": 5
}
